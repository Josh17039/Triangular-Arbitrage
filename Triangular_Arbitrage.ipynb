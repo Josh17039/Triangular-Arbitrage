{
  "cells": [
    {
      "cell_type": "markdown",
      "metadata": {
        "id": "view-in-github",
        "colab_type": "text"
      },
      "source": [
        "<a href=\"https://colab.research.google.com/github/Josh17039/Triangular-Arbitrage/blob/main/Triangular_Arbitrage.ipynb\" target=\"_parent\"><img src=\"https://colab.research.google.com/assets/colab-badge.svg\" alt=\"Open In Colab\"/></a>"
      ]
    },
    {
      "cell_type": "code",
      "source": [
        "pip install forex-python\n"
      ],
      "metadata": {
        "colab": {
          "base_uri": "https://localhost:8080/"
        },
        "id": "qZSYjBcvOIUQ",
        "outputId": "f0be3432-1ae8-4d00-916d-6b27c5f68dc3"
      },
      "execution_count": 1,
      "outputs": [
        {
          "output_type": "stream",
          "name": "stdout",
          "text": [
            "Looking in indexes: https://pypi.org/simple, https://us-python.pkg.dev/colab-wheels/public/simple/\n",
            "Collecting forex-python\n",
            "  Downloading forex_python-1.8-py3-none-any.whl (8.2 kB)\n",
            "Requirement already satisfied: requests in /usr/local/lib/python3.7/dist-packages (from forex-python) (2.23.0)\n",
            "Collecting simplejson\n",
            "  Downloading simplejson-3.18.0-cp37-cp37m-manylinux_2_5_x86_64.manylinux1_x86_64.manylinux_2_12_x86_64.manylinux2010_x86_64.whl (130 kB)\n",
            "\u001b[K     |████████████████████████████████| 130 kB 14.0 MB/s \n",
            "\u001b[?25hRequirement already satisfied: chardet<4,>=3.0.2 in /usr/local/lib/python3.7/dist-packages (from requests->forex-python) (3.0.4)\n",
            "Requirement already satisfied: idna<3,>=2.5 in /usr/local/lib/python3.7/dist-packages (from requests->forex-python) (2.10)\n",
            "Requirement already satisfied: urllib3!=1.25.0,!=1.25.1,<1.26,>=1.21.1 in /usr/local/lib/python3.7/dist-packages (from requests->forex-python) (1.24.3)\n",
            "Requirement already satisfied: certifi>=2017.4.17 in /usr/local/lib/python3.7/dist-packages (from requests->forex-python) (2022.9.24)\n",
            "Installing collected packages: simplejson, forex-python\n",
            "Successfully installed forex-python-1.8 simplejson-3.18.0\n"
          ]
        }
      ]
    },
    {
      "cell_type": "code",
      "source": [
        "#importing libraries\n",
        "import sys\n",
        "import numpy as np\n",
        "from string import ascii_uppercase\n",
        "from numpy import log as ln\n",
        "\n"
      ],
      "metadata": {
        "id": "kDLsxY9hnUCk"
      },
      "execution_count": null,
      "outputs": []
    },
    {
      "cell_type": "code",
      "execution_count": null,
      "metadata": {
        "id": "dHCXAzdD_lza"
      },
      "outputs": [],
      "source": [
        "#Vertex class for bellman ford algorithim with necessary getter and setter functions\n",
        "class Vertex :\n",
        "  def __init__(self,name) :\n",
        "    self.name = name\n",
        "    self.ConnectedEdges = []\n",
        "\n",
        "  def addEdge(self,edge):\n",
        "    self.ConnectedEdges.append(edge)\n",
        "\n",
        "  def getEdge(self):\n",
        "    return self.ConnectedEdges\n",
        "\n",
        "  def getName(self):\n",
        "    return self.name\n",
        "    \n",
        "  def setDistance(self, distance):\n",
        "    self.distance = distance\n",
        "\n",
        "  def getDistance(self):\n",
        "    return self.distance\n",
        "\n",
        "  def setPrevVertex(self, prevVertex):\n",
        "     self.prevVertex = prevVertex\n",
        "     \n",
        "  def  getPrevVertex(self):\n",
        "    return self.prevVertex\n",
        "  "
      ]
    },
    {
      "cell_type": "code",
      "execution_count": null,
      "metadata": {
        "id": "eXxjMW2uIXhC"
      },
      "outputs": [],
      "source": [
        "#Vertex class for bellman ford algorithim with necessary getter and setter functions\n",
        "class Edge:\n",
        "    def __init__(self, weight, fromVertex,  toVertex) :\n",
        "       self.weight = weight\n",
        "       self.fromVertex = fromVertex\n",
        "       self.toVertex = toVertex\n",
        "\n",
        "    def setWeight(self, weight):\n",
        "      self.weight = weight\n",
        "      \n",
        "    def  getWeight(self):\n",
        "      return self.weight\n",
        "      \n",
        "    def setfromVertex(self, fromVertex):\n",
        "      self.fromVertex = fromVertex\n",
        "      \n",
        "    def  getfromVertex(self):\n",
        "      return self.fromVertex\n",
        "      \n",
        "    def settoVertex(self, toVertex):\n",
        "      self.toVertex = toVertex\n",
        "      \n",
        "    def gettoVertex(self):\n",
        "      return self.toVertex\n",
        "  \n",
        "\n",
        "  "
      ]
    },
    {
      "cell_type": "code",
      "source": [
        "#Bellman  Ford class contains the alogrithim that finds the shortest path\n",
        "class BellmanFord:\n",
        "  def __init__(self, ListofEdges, ListofVertexes) :\n",
        "       self.ListofEdges = ListofEdges\n",
        "       self.ListofVertexes = ListofVertexes\n",
        "\n",
        "#This function contains the algorithim that finds the shortest path by relaxing the edges in the graph to find the negative edges\n",
        "  def Algorthim2(self, sourceVertex):\n",
        "    for vertex in self.ListofVertexes:\n",
        "      if(sourceVertex== vertex):\n",
        "        vertex.setDistance(0)\n",
        "      else:\n",
        "        vertex.setDistance(sys.float_info.max)\n",
        "\n",
        "\n",
        "    for i in range (len(self.ListofVertexes)):\n",
        "      for edge in self.ListofEdges:\n",
        "        newdistance = edge.getfromVertex().getDistance() + edge.getWeight()\n",
        "        \n",
        "        if(newdistance < edge.gettoVertex().getDistance()):\n",
        "          edge.gettoVertex().setDistance(newdistance);\n",
        "          edge.gettoVertex().setPrevVertex(edge.getfromVertex());\n",
        "          \n",
        "\n",
        "\n",
        "\n",
        "    \n",
        "    count = 0\n",
        "    negedge = []\n",
        "    for edge in self.ListofEdges:\n",
        "        newdistance = edge.getfromVertex().getDistance() + edge.getWeight()\n",
        "        \n",
        "        if(newdistance < edge.gettoVertex().getDistance()):\n",
        "          edge.gettoVertex().setDistance((sys.float_info.max*(-1)))\n",
        "          edge.gettoVertex().setPrevVertex(edge.getfromVertex())\n",
        "          negedge.append(edge)\n",
        "          count = count + 1 \n",
        "    \n",
        "    self.negcycledetector(negedge,sourceVertex)\n",
        "    \n",
        "\n",
        " \n",
        " #This function detects if the following negative edges form a cycle\n",
        "  def negcycledetector(self,negedge,src):\n",
        "    currvertex = src.getName()\n",
        "    loopcount = 0\n",
        "    q=[]\n",
        "    totalweit=0\n",
        "    loopcount2 =0;\n",
        "    foundsrcagain = False\n",
        "\n",
        "    for a in negedge:\n",
        "      totalweit = totalweit + a.getWeight()\n",
        "\n",
        "\n",
        "\n",
        "    while (loopcount<6):\n",
        "      eg = None\n",
        "      for e in negedge:\n",
        "        if (e.fromVertex.getName()==currvertex):\n",
        "          currvertex=e.toVertex.getName()\n",
        "          eg = e\n",
        "          q.append(e)\n",
        "          break;\n",
        "\n",
        "      loopcount = loopcount +1\n",
        "      \n",
        "      if (eg != None):\n",
        "        if (eg.toVertex.getName()==src.getName()):\n",
        "          break;\n",
        "      \n",
        "      \n",
        "\n",
        "     \n",
        "\n",
        "\n",
        "    \n",
        "\n",
        "\n",
        "   \n",
        "    qsiz = len(q)\n",
        "    if((totalweit<0)and(len(q)==3)):\n",
        "      loopcount3=0;\n",
        "      \n",
        "      \n",
        "      print ('Negative Cycle Detected')\n",
        "      print('Edge     Weight')\n",
        "      print('=================')\n",
        "      while (loopcount3<qsiz):\n",
        "        ed = q.pop(0)\n",
        "        print(ed.getfromVertex().getName(),'->', ed.gettoVertex().getName(), ed.getWeight())\n",
        "        loopcount3 = loopcount3 +1\n",
        "\n",
        "    else:\n",
        "      loopcount4 =0;\n",
        "      print('No Negative Cycle Detected.')\n",
        "      print('Therefore, No arbitrage opportunity')\n",
        "      print('Edge     Weight')\n",
        "      print('=================')\n",
        "      for ed in negedge:\n",
        "        print(ed.getfromVertex().getName(),'->', ed.gettoVertex().getName(), ed.getWeight())\n",
        "       \n",
        "\n",
        "    print('Total Summation of Edges: ', totalweit)\n",
        "    \n",
        "  \n",
        "\n",
        "\n",
        "\n",
        "\n",
        "\n",
        "\n",
        "\n"
      ],
      "metadata": {
        "id": "7lSoJ_WgNFVi"
      },
      "execution_count": null,
      "outputs": []
    },
    {
      "cell_type": "code",
      "source": [
        "def lnEdges(weight):\n",
        "  lnWeight = (-1)*ln(weight)\n",
        "  return lnWeight"
      ],
      "metadata": {
        "id": "AMTxqDMpPgoC"
      },
      "execution_count": null,
      "outputs": []
    },
    {
      "cell_type": "markdown",
      "source": [
        "**Test Run**\n",
        "\n",
        "Vertex A -> Vertex B \n",
        "*   Edge length: 76.923\n",
        "\n",
        "Vertex B -> Vertex A \n",
        "*   Edge length: 0.013\n",
        "\n",
        "Vertex B -> Vertex C \n",
        "*   Edge length: 0.01\n",
        "\n",
        "Vertex C -> Vertex B \n",
        "*   Edge length: 100\n",
        "\n",
        "Vertex A -> Vertex C \n",
        "*   Edge length: 1.22\n",
        "\n",
        "Vertex C -> Vertex A \n",
        "*   Edge length: 0.8\n",
        "\n",
        "\n"
      ],
      "metadata": {
        "id": "5nID2FfhQ-eP"
      }
    },
    {
      "cell_type": "code",
      "source": [
        "\n",
        "edgelist =[]\n",
        "vertexlist =[]\n",
        "\n",
        "\n",
        "count =0\n",
        "\n",
        "for i in ascii_uppercase:\n",
        "  if(count<3):\n",
        "    vert = Vertex(i)\n",
        "    vertexlist.append(vert)\n",
        "    \n",
        "  count= count +1 \n",
        "\n",
        "\n",
        "\n",
        "edge1 =  Edge(lnEdges(76.923),vertexlist[0],vertexlist[1])\n",
        "edge2 =  Edge(lnEdges(0.013),vertexlist[1],vertexlist[0])\n",
        "\n",
        "edge3 =  Edge(lnEdges(0.01),vertexlist[1],vertexlist[2])\n",
        "edge4 =  Edge(lnEdges(100),vertexlist[2],vertexlist[1])\n",
        "\n",
        "edge5 =  Edge(lnEdges(1.22),vertexlist[2],vertexlist[0])\n",
        "edge6 =  Edge(lnEdges(0.8),vertexlist[0],vertexlist[2])\n",
        "\n",
        "\n",
        "\n",
        "edgelist.append(edge1)\n",
        "edgelist.append(edge2)\n",
        "edgelist.append(edge3)\n",
        "edgelist.append(edge4)\n",
        "edgelist.append(edge5)\n",
        "edgelist.append(edge6)\n",
        "\n",
        "\n",
        "\n",
        "\n",
        "\n",
        "bf = BellmanFord(edgelist,vertexlist)\n",
        "\n",
        "bf.Algorthim2(vertexlist[0])"
      ],
      "metadata": {
        "colab": {
          "base_uri": "https://localhost:8080/"
        },
        "id": "0MJ32QFy5BRA",
        "outputId": "ee72f169-ffef-46c3-bcd0-fbb15d2a337d"
      },
      "execution_count": null,
      "outputs": [
        {
          "output_type": "stream",
          "name": "stdout",
          "text": [
            "Negative Cycle Detected\n",
            "Edge     Weight\n",
            "=================\n",
            "A -> C 0.2231435513142097\n",
            "C -> B -4.605170185988092\n",
            "B -> A 4.3428059215206005\n",
            "Total Summation of Edges:  -0.03922071315328157\n"
          ]
        }
      ]
    },
    {
      "cell_type": "markdown",
      "source": [
        "**Running Triangular Arbitrage Using Liver Currency Values**"
      ],
      "metadata": {
        "id": "-6yxK7s-acgF"
      }
    },
    {
      "cell_type": "code",
      "source": [
        "#importing python library of live currency rates\n",
        "from forex_python.converter import CurrencyRates\n",
        "cr = CurrencyRates()"
      ],
      "metadata": {
        "id": "rBKgmkWBlGXz"
      },
      "execution_count": null,
      "outputs": []
    },
    {
      "cell_type": "code",
      "source": [
        "#Triangular arbitrage will consist of 3 randomly chosen currencies\n",
        "#-> CAD\n",
        "#-> Japanese Yen (JPY)\n",
        "#-> USD\n",
        "\n",
        "Cad_Jpy = cr.get_rate('CAD', 'JPY')\n",
        "Jpy_Cad = cr.get_rate('JPY', 'CAD')\n",
        "\n",
        "Jpy_Usd = cr.get_rate('JPY', 'USD')\n",
        "Usd_Jpy = cr.get_rate('USD', 'JPY')\n",
        "\n",
        "Usd_Cad = cr.get_rate('USD', 'CAD')\n",
        "Cad_Usd = cr.get_rate('CAD', 'USD')\n",
        "\n",
        "print('1 CAD = ',Cad_Jpy, 'JPY')\n",
        "print('1 JPY = ',Jpy_Cad, 'CAD')\n",
        "\n",
        "print('1 JPY = ',Jpy_Usd, 'USD')\n",
        "print('1 USD = ',Usd_Jpy, 'JPY')\n",
        "\n",
        "print('1 USD = ',Usd_Cad, 'CAD')\n",
        "print('1 CAD = ',Usd_Cad, 'USD')\n",
        "\n"
      ],
      "metadata": {
        "colab": {
          "base_uri": "https://localhost:8080/"
        },
        "id": "47Gyzczhv6a7",
        "outputId": "ab2f6ba1-1e4e-4301-8b7c-4c2b7d99dbae"
      },
      "execution_count": null,
      "outputs": [
        {
          "output_type": "stream",
          "name": "stdout",
          "text": [
            "1 CAD =  104.84791561303373 JPY\n",
            "1 JPY =  0.009537624035281148 CAD\n",
            "1 JPY =  0.007143054024255788 USD\n",
            "1 USD =  139.99614123094733 JPY\n",
            "1 USD =  1.3352305614508972 CAD\n",
            "1 CAD =  1.3352305614508972 USD\n"
          ]
        }
      ]
    },
    {
      "cell_type": "code",
      "source": [
        "#Running the Bellman Ford Algorithim to find Arbitrage\n",
        "edgelist2 =[]\n",
        "vertexlist2 =[]\n",
        "\n",
        "vert1 = Vertex('CAD')\n",
        "vert2 = Vertex('JPY')\n",
        "vert3 = Vertex('USD')\n",
        "\n",
        "vertexlist.append(vert1)\n",
        "vertexlist.append(vert2)\n",
        "vertexlist.append(vert3)\n",
        "\n",
        "\n",
        "\n",
        "\n",
        "edge1 =  Edge(lnEdges(Cad_Jpy),vertexlist[0],vertexlist[1])\n",
        "edge2 =  Edge(lnEdges(Jpy_Cad),vertexlist[1],vertexlist[0])\n",
        "\n",
        "edge3 =  Edge(lnEdges(Jpy_Usd),vertexlist[1],vertexlist[2])\n",
        "edge4 =  Edge(lnEdges(Usd_Jpy),vertexlist[2],vertexlist[1])\n",
        "\n",
        "edge5 =  Edge(lnEdges(Usd_Cad),vertexlist[2],vertexlist[0])\n",
        "edge6 =  Edge(lnEdges(Cad_Usd),vertexlist[0],vertexlist[2])\n",
        "\n",
        "\n",
        "\n",
        "edgelist.append(edge1)\n",
        "edgelist.append(edge2)\n",
        "edgelist.append(edge3)\n",
        "edgelist.append(edge4)\n",
        "edgelist.append(edge5)\n",
        "edgelist.append(edge6)\n",
        "\n",
        "\n",
        "\n",
        "\n",
        "\n",
        "bf2 = BellmanFord(edgelist,vertexlist)\n",
        "\n",
        "bf2.Algorthim2(vertexlist[0])"
      ],
      "metadata": {
        "colab": {
          "base_uri": "https://localhost:8080/"
        },
        "id": "UFPc5E_QQUfh",
        "outputId": "a1d5bbd8-68e6-4a00-fd33-fcd2a639738a"
      },
      "execution_count": null,
      "outputs": [
        {
          "output_type": "stream",
          "name": "stdout",
          "text": [
            "No Negative Cycle Detected.\n",
            "Therefore, No arbitrage opportunity\n",
            "Edge     Weight\n",
            "=================\n",
            "B -> A 4.3428059215206005\n",
            "B -> C 4.605170185988091\n",
            "C -> B -4.605170185988092\n",
            "Total Summation of Edges:  4.342805921520599\n"
          ]
        }
      ]
    }
  ],
  "metadata": {
    "colab": {
      "provenance": [],
      "authorship_tag": "ABX9TyPXD/bIR6NBWeHgeBJVa88Y",
      "include_colab_link": true
    },
    "kernelspec": {
      "display_name": "Python 3",
      "name": "python3"
    },
    "language_info": {
      "name": "python"
    }
  },
  "nbformat": 4,
  "nbformat_minor": 0
}